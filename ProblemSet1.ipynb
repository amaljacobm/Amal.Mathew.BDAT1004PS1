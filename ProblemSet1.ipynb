{
 "cells": [
  {
   "cell_type": "markdown",
   "id": "83fb58bc",
   "metadata": {},
   "source": [
    "# Question 1"
   ]
  },
  {
   "cell_type": "markdown",
   "id": "a5d7c5ba",
   "metadata": {},
   "source": [
    "### 5 is:integer\n",
    "### 5.0 is:float\n",
    "### 5 > 1 is:boolean\n",
    "### '5' is:Character\n",
    "### 5*2 is:integer\n",
    "### '5'*2 is:Character\n",
    "### '5'+'2' is:Character\n",
    "### 5 / 2 is:float\n",
    "### 5 % 2 is:integer\n",
    "### {5, 2, 1} is:set\n",
    "### 5 == 3 is:boolean\n",
    "### pi(the number)is:float"
   ]
  },
  {
   "cell_type": "markdown",
   "id": "56a10db4",
   "metadata": {},
   "source": [
    "# Question 2\n"
   ]
  },
  {
   "cell_type": "markdown",
   "id": "2ae6a863",
   "metadata": {},
   "source": [
    "## a)\n"
   ]
  },
  {
   "cell_type": "code",
   "execution_count": 1,
   "id": "2f6be197",
   "metadata": {},
   "outputs": [
    {
     "data": {
      "text/plain": [
       "34"
      ]
     },
     "execution_count": 1,
     "metadata": {},
     "output_type": "execute_result"
    }
   ],
   "source": [
    "len('Supercalifragilisticexpialidocious')"
   ]
  },
  {
   "cell_type": "markdown",
   "id": "22fe8d5a",
   "metadata": {},
   "source": [
    "## b)"
   ]
  },
  {
   "cell_type": "code",
   "execution_count": 2,
   "id": "f606774e",
   "metadata": {},
   "outputs": [
    {
     "data": {
      "text/plain": [
       "True"
      ]
     },
     "execution_count": 2,
     "metadata": {},
     "output_type": "execute_result"
    }
   ],
   "source": [
    "test=('Supercalifragilisticexpialidocious')\n",
    "'ice' in test"
   ]
  },
  {
   "cell_type": "markdown",
   "id": "5ce50538",
   "metadata": {},
   "source": [
    "## c)"
   ]
  },
  {
   "cell_type": "code",
   "execution_count": 3,
   "id": "1accd78b",
   "metadata": {},
   "outputs": [
    {
     "name": "stdout",
     "output_type": "stream",
     "text": [
      "longest word is: Supercalifragilisticexpialidocious and Bababadalgharaghtakamminarronnkonn\n"
     ]
    }
   ],
   "source": [
    "s1='Supercalifragilisticexpialidocious'\n",
    "s2='Honorificabilitudinitatibus'\n",
    "s3='Bababadalgharaghtakamminarronnkonn'\n",
    "l1=len(s1)\n",
    "l2=len(s2)\n",
    "l3=len(s3)\n",
    "if(l1>l2 and l1>l3):\n",
    " print(\"longest word is:\",s1)\n",
    "if(l2>l1 and l2>l3):\n",
    " print(\"longest word is:\",s2)\n",
    "if(l3>l2 and l3>l1):\n",
    " print(\"longest word is:\",s3)\n",
    "if(l1==l2):\n",
    "  print(\"longest word is:\",s1,\"and\",s2)\n",
    "if(l2==l3):\n",
    "  print(\"longest word is:\",s2,\"and\",s3)\n",
    "if(l1==l3):\n",
    "  print(\"longest word is:\",s1,\"and\",s3) "
   ]
  },
  {
   "cell_type": "markdown",
   "id": "2f7de79a",
   "metadata": {},
   "source": [
    "## d)\n"
   ]
  },
  {
   "cell_type": "code",
   "execution_count": 4,
   "id": "367dc6a9",
   "metadata": {},
   "outputs": [
    {
     "name": "stdout",
     "output_type": "stream",
     "text": [
      "First string is : Bartok\n",
      "last string is : Buxtehude\n"
     ]
    }
   ],
   "source": [
    "strings=['Berlioz', 'Borodin', 'Brian','Bartok', 'Bellini', 'Buxtehude', 'Bernstein']\n",
    "strings.sort()\n",
    "print(\"First string is :\",strings[0])\n",
    "print(\"last string is :\",strings[-1])"
   ]
  },
  {
   "cell_type": "markdown",
   "id": "a4660d75",
   "metadata": {},
   "source": [
    "# Question 3"
   ]
  },
  {
   "cell_type": "code",
   "execution_count": 5,
   "id": "a4731190",
   "metadata": {},
   "outputs": [
    {
     "name": "stdout",
     "output_type": "stream",
     "text": [
      "Enter side 1 : 2\n",
      "Enter side 2 : 2\n",
      "Enter side 3 : 2\n",
      "Area of triangle is :  1.7320508075688772\n"
     ]
    }
   ],
   "source": [
    "import math\n",
    "\n",
    "def TriangleArea(a,b,c):\n",
    "    s=(a+b+c)/2\n",
    "    area= math.sqrt(s*((s-a)*(s-b)*(s-c)))\n",
    "    return area\n",
    "\n",
    "x1=float(input(\"Enter side 1 : \"))\n",
    "x2=float(input(\"Enter side 2 : \"))\n",
    "x3=float(input(\"Enter side 3 : \"))\n",
    "area=TriangleArea(x1,x2,x3)\n",
    "print(\"Area of triangle is : \",area)"
   ]
  },
  {
   "cell_type": "markdown",
   "id": "e2ae21f4",
   "metadata": {},
   "source": [
    "# Question 4"
   ]
  },
  {
   "cell_type": "code",
   "execution_count": 6,
   "id": "b7f9ed6d",
   "metadata": {},
   "outputs": [
    {
     "name": "stdout",
     "output_type": "stream",
     "text": [
      "Enter the length of the array: 5\n",
      "Enter the elements : \n",
      "25\n",
      "47\n",
      "42\n",
      "56\n",
      "32\n",
      "[25, 47, 42, 56, 32]\n",
      "Even numbers : [42, 56, 32]\n",
      "Odd numbers : [25, 47]\n"
     ]
    }
   ],
   "source": [
    "x=[]\n",
    "odd=[]\n",
    "even=[]\n",
    "n=int(input(\"Enter the length of the array: \"))\n",
    "print(\"Enter the elements : \")\n",
    "for i in range(0,n):\n",
    "    b=int(input())\n",
    "    x.append(b)\n",
    "print(x)\n",
    "\n",
    "for i in x:\n",
    "    if i%2==0:\n",
    "        even.append(i)\n",
    "    else:\n",
    "        odd.append(i)\n",
    "print(\"Even numbers :\",even)\n",
    "print(\"Odd numbers :\",odd)"
   ]
  },
  {
   "cell_type": "markdown",
   "id": "5224f100",
   "metadata": {},
   "source": [
    "# Question 5"
   ]
  },
  {
   "cell_type": "markdown",
   "id": "f3cae144",
   "metadata": {},
   "source": [
    "## a)\n"
   ]
  },
  {
   "cell_type": "code",
   "execution_count": 7,
   "id": "571c2bb9",
   "metadata": {},
   "outputs": [
    {
     "name": "stdout",
     "output_type": "stream",
     "text": [
      "Enter lower left x coordinate : 0\n",
      "Enter lower left y coordinate : 0\n",
      "Enter upper right x coordinate : 2\n",
      "Enter upper right y coordinate : 3\n",
      "Enter x coordinate : 1\n",
      "Enter y coordinate : 1\n",
      "True\n"
     ]
    }
   ],
   "source": [
    "def inside(x,y,x1,y1,x2,y2):\n",
    "    print(x>x1 and x<x2 and y>y1 and y<y2)\n",
    "    \n",
    "x1=float(input(\"Enter lower left x coordinate : \"))\n",
    "y1=float(input(\"Enter lower left y coordinate : \"))\n",
    "x2=float(input(\"Enter upper right x coordinate : \"))\n",
    "y2=float(input(\"Enter upper right y coordinate : \"))\n",
    "x=float(input(\"Enter x coordinate : \"))\n",
    "y=float(input(\"Enter y coordinate : \"))\n",
    "inside(x,y,x1,y1,x2,y2) "
   ]
  },
  {
   "cell_type": "code",
   "execution_count": 8,
   "id": "48f8c350",
   "metadata": {},
   "outputs": [
    {
     "name": "stdout",
     "output_type": "stream",
     "text": [
      "Enter lower left x coordinate : 0\n",
      "Enter lower left y coordinate : 0\n",
      "Enter upper right x coordinate : 2\n",
      "Enter upper right y coordinate : 3\n",
      "Enter x coordinate : -1\n",
      "Enter y coordinate : -1\n",
      "False\n"
     ]
    }
   ],
   "source": [
    "def inside(x,y,x1,y1,x2,y2):\n",
    "    print(x>x1 and x<x2 and y>y1 and y<y2)\n",
    "    \n",
    "x1=float(input(\"Enter lower left x coordinate : \"))\n",
    "y1=float(input(\"Enter lower left y coordinate : \"))\n",
    "x2=float(input(\"Enter upper right x coordinate : \"))\n",
    "y2=float(input(\"Enter upper right y coordinate : \"))\n",
    "x=float(input(\"Enter x coordinate : \"))\n",
    "y=float(input(\"Enter y coordinate : \"))\n",
    "inside(x,y,x1,y1,x2,y2) "
   ]
  },
  {
   "cell_type": "markdown",
   "id": "a31ffc02",
   "metadata": {},
   "source": [
    "## b)"
   ]
  },
  {
   "cell_type": "code",
   "execution_count": 9,
   "id": "5e5df3e7",
   "metadata": {},
   "outputs": [
    {
     "name": "stdout",
     "output_type": "stream",
     "text": [
      "False\n",
      "None\n"
     ]
    }
   ],
   "source": [
    "def inside(x,y,x1,y1,x2,y2):\n",
    "    print(x>x1 and x<x2 and y>y1 and y<y2)\n",
    "\n",
    "print((inside(1,1,0.3,0.5,1.1,0.7)) and (inside(1,1,0.5,0.2,1.1,2)))"
   ]
  },
  {
   "cell_type": "markdown",
   "id": "2fda36f1",
   "metadata": {},
   "source": [
    "# Question6 "
   ]
  },
  {
   "cell_type": "code",
   "execution_count": 11,
   "id": "34e4f0c5",
   "metadata": {},
   "outputs": [
    {
     "name": "stdout",
     "output_type": "stream",
     "text": [
      "Enter the word: happy\n",
      "appyhay\n"
     ]
    }
   ],
   "source": [
    "p=input(\"Enter the word: \")\n",
    "vowels = ['a','e','i','o','u']\n",
    "\n",
    "def pig(p) :\n",
    "    pigLower = p.lower()\n",
    "    pigFirstletter = pigLower[0]\n",
    "\n",
    "    if pigFirstletter in vowels :\n",
    "        p = pigLower+'way'\n",
    "        return p\n",
    "    else :\n",
    "        p = pigLower[1:]+pigLower[0]+'ay'\n",
    "        return p\n",
    "    \n",
    "print(pig(p))  "
   ]
  },
  {
   "cell_type": "code",
   "execution_count": 12,
   "id": "6daa01bb",
   "metadata": {},
   "outputs": [
    {
     "name": "stdout",
     "output_type": "stream",
     "text": [
      "Enter the word: Enter\n",
      "enterway\n"
     ]
    }
   ],
   "source": [
    "p=input(\"Enter the word: \")\n",
    "vowels = ['a','e','i','o','u']\n",
    "\n",
    "def pig(p) :\n",
    "    pigLower = p.lower()\n",
    "    pigFirstletter = pigLower[0]\n",
    "\n",
    "    if pigFirstletter in vowels :\n",
    "        p = pigLower+'way'\n",
    "        return p\n",
    "    else :\n",
    "        p = pigLower[1:]+pigLower[0]+'ay'\n",
    "        return p\n",
    "    \n",
    "print(pig(p))"
   ]
  },
  {
   "cell_type": "markdown",
   "id": "2dad06f5",
   "metadata": {},
   "source": [
    "# Question 7"
   ]
  },
  {
   "cell_type": "code",
   "execution_count": 22,
   "id": "a192da61",
   "metadata": {},
   "outputs": [
    {
     "name": "stdout",
     "output_type": "stream",
     "text": [
      "AB AB B O A A AB O AB A O O A A A O O O AB O A A A A A AB AB A AB O AB O A O O O AB O AB AB AB A A O \n",
      "There are 15 patients of blood type A\n",
      "There are 1 patients of blood type B\n",
      "There are 13 patients of blood type AB\n",
      "There are 15 patients of blood type O\n",
      "There are 0 patients of blood type OO\n"
     ]
    }
   ],
   "source": [
    "def bldcount():\n",
    "    file = open(\"bloodtype.txt\", \"r\")\n",
    "    file1 = file.read()\n",
    "    file.close()\n",
    "    print(file1)\n",
    "    groups = file1.split()\n",
    "    print(\"There are \" + str(groups.count(\"A\"))+ \" patients of blood type A\")\n",
    "    print(\"There are \" + str(groups.count(\"B\"))+ \" patients of blood type B\")\n",
    "    print(\"There are \" + str(groups.count(\"AB\"))+ \" patients of blood type AB\")\n",
    "    print(\"There are \" + str(groups.count(\"O\"))+ \" patients of blood type O\")\n",
    "    print(\"There are \" + str(groups.count(\"OO\"))+ \" patients of blood type OO\")\n",
    "    \n",
    "bldcount()"
   ]
  },
  {
   "cell_type": "markdown",
   "id": "90c28462",
   "metadata": {},
   "source": [
    "# Question 8"
   ]
  },
  {
   "cell_type": "code",
   "execution_count": 23,
   "id": "a4a5cb55",
   "metadata": {},
   "outputs": [
    {
     "name": "stdout",
     "output_type": "stream",
     "text": [
      "122.96544\n"
     ]
    }
   ],
   "source": [
    "def curconv(currency,amount):\n",
    "    file = open(\"currencies.txt\", \"r\")\n",
    "    file1 = file.readlines()\n",
    "    file.close()\n",
    "    for file in file1 :\n",
    "        group = file.split()\n",
    "        if currency == group[0]:\n",
    "            currency = float(group[1])\n",
    "            valueconv = amount * currency\n",
    "        \n",
    "    print(valueconv)   \n",
    "        \n",
    "curconv('EUR',100)"
   ]
  },
  {
   "cell_type": "code",
   "execution_count": 24,
   "id": "c83828f9",
   "metadata": {},
   "outputs": [
    {
     "name": "stdout",
     "output_type": "stream",
     "text": [
      "1.241401\n"
     ]
    }
   ],
   "source": [
    "def curconv(currency,amount):\n",
    "    file = open(\"currencies.txt\", \"r\")\n",
    "    file1 = file.readlines()\n",
    "    file.close()\n",
    "    for file in file1 :\n",
    "        group = file.split()\n",
    "        if currency == group[0]:\n",
    "            currency = float(group[1])\n",
    "            valueconv = amount * currency\n",
    "        \n",
    "    print(valueconv)    \n",
    "    \n",
    "curconv('JPY',100)"
   ]
  },
  {
   "cell_type": "markdown",
   "id": "f84fda41",
   "metadata": {},
   "source": [
    "# Question 9\n"
   ]
  },
  {
   "cell_type": "markdown",
   "id": "ba82480b",
   "metadata": {},
   "source": [
    "### Trying to add incompatible variables, as in adding 6 + ‘a’\n"
   ]
  },
  {
   "cell_type": "code",
   "execution_count": 15,
   "id": "2dfc5b02",
   "metadata": {},
   "outputs": [
    {
     "ename": "TypeError",
     "evalue": "unsupported operand type(s) for +: 'int' and 'str'",
     "output_type": "error",
     "traceback": [
      "\u001b[1;31m---------------------------------------------------------------------------\u001b[0m",
      "\u001b[1;31mTypeError\u001b[0m                                 Traceback (most recent call last)",
      "Input \u001b[1;32mIn [15]\u001b[0m, in \u001b[0;36m<cell line: 1>\u001b[1;34m()\u001b[0m\n\u001b[1;32m----> 1\u001b[0m \u001b[38;5;241;43m6\u001b[39;49m\u001b[43m \u001b[49m\u001b[38;5;241;43m+\u001b[39;49m\u001b[43m \u001b[49m\u001b[38;5;124;43m'\u001b[39;49m\u001b[38;5;124;43ma\u001b[39;49m\u001b[38;5;124;43m'\u001b[39;49m\n",
      "\u001b[1;31mTypeError\u001b[0m: unsupported operand type(s) for +: 'int' and 'str'"
     ]
    }
   ],
   "source": [
    "6 + 'a'"
   ]
  },
  {
   "cell_type": "markdown",
   "id": "83d9b3b3",
   "metadata": {},
   "source": [
    "### Referring to the 12th item of a list that has only 10 items\n"
   ]
  },
  {
   "cell_type": "code",
   "execution_count": 16,
   "id": "692241d9",
   "metadata": {},
   "outputs": [
    {
     "ename": "IndexError",
     "evalue": "list index out of range",
     "output_type": "error",
     "traceback": [
      "\u001b[1;31m---------------------------------------------------------------------------\u001b[0m",
      "\u001b[1;31mIndexError\u001b[0m                                Traceback (most recent call last)",
      "Input \u001b[1;32mIn [16]\u001b[0m, in \u001b[0;36m<cell line: 2>\u001b[1;34m()\u001b[0m\n\u001b[0;32m      1\u001b[0m \u001b[38;5;28mlist\u001b[39m\u001b[38;5;241m=\u001b[39m[\u001b[38;5;124m'\u001b[39m\u001b[38;5;124m3\u001b[39m\u001b[38;5;124m'\u001b[39m,\u001b[38;5;124m'\u001b[39m\u001b[38;5;124m45\u001b[39m\u001b[38;5;124m'\u001b[39m, \u001b[38;5;124m'\u001b[39m\u001b[38;5;124m93\u001b[39m\u001b[38;5;124m'\u001b[39m,\u001b[38;5;124m'\u001b[39m\u001b[38;5;124m2\u001b[39m\u001b[38;5;124m'\u001b[39m,\u001b[38;5;124m'\u001b[39m\u001b[38;5;124m6\u001b[39m\u001b[38;5;124m'\u001b[39m,\u001b[38;5;124m'\u001b[39m\u001b[38;5;124m79\u001b[39m\u001b[38;5;124m'\u001b[39m,\u001b[38;5;124m'\u001b[39m\u001b[38;5;124m8\u001b[39m\u001b[38;5;124m'\u001b[39m,\u001b[38;5;124m'\u001b[39m\u001b[38;5;124m9\u001b[39m\u001b[38;5;124m'\u001b[39m,\u001b[38;5;124m'\u001b[39m\u001b[38;5;124m1\u001b[39m\u001b[38;5;124m'\u001b[39m,\u001b[38;5;124m'\u001b[39m\u001b[38;5;124m20\u001b[39m\u001b[38;5;124m'\u001b[39m]\n\u001b[1;32m----> 2\u001b[0m \u001b[38;5;28mprint\u001b[39m(\u001b[38;5;28;43mlist\u001b[39;49m\u001b[43m[\u001b[49m\u001b[38;5;241;43m12\u001b[39;49m\u001b[43m]\u001b[49m)\n",
      "\u001b[1;31mIndexError\u001b[0m: list index out of range"
     ]
    }
   ],
   "source": [
    "list=['3','45', '93','2','6','79','8','9','1','20']\n",
    "print(list[12])\n"
   ]
  },
  {
   "cell_type": "markdown",
   "id": "d5ffa403",
   "metadata": {},
   "source": [
    "### Using a value that is out of range for a function’s input, such as calling math.sqrt(-1.0)"
   ]
  },
  {
   "cell_type": "code",
   "execution_count": 17,
   "id": "1c3aff87",
   "metadata": {},
   "outputs": [
    {
     "ename": "ValueError",
     "evalue": "math domain error",
     "output_type": "error",
     "traceback": [
      "\u001b[1;31m---------------------------------------------------------------------------\u001b[0m",
      "\u001b[1;31mValueError\u001b[0m                                Traceback (most recent call last)",
      "Input \u001b[1;32mIn [17]\u001b[0m, in \u001b[0;36m<cell line: 3>\u001b[1;34m()\u001b[0m\n\u001b[0;32m      1\u001b[0m \u001b[38;5;28;01mimport\u001b[39;00m \u001b[38;5;21;01mmath\u001b[39;00m\n\u001b[1;32m----> 3\u001b[0m \u001b[38;5;28mprint\u001b[39m(\u001b[43mmath\u001b[49m\u001b[38;5;241;43m.\u001b[39;49m\u001b[43msqrt\u001b[49m\u001b[43m(\u001b[49m\u001b[38;5;241;43m-\u001b[39;49m\u001b[38;5;241;43m1.0\u001b[39;49m\u001b[43m)\u001b[49m)\n",
      "\u001b[1;31mValueError\u001b[0m: math domain error"
     ]
    }
   ],
   "source": [
    "import math\n",
    "\n",
    "print(math.sqrt(-1.0))"
   ]
  },
  {
   "cell_type": "markdown",
   "id": "55459ed5",
   "metadata": {},
   "source": [
    "### Using an undeclared variable, such as print(w) when w has not been defined"
   ]
  },
  {
   "cell_type": "code",
   "execution_count": 20,
   "id": "aa768e08",
   "metadata": {},
   "outputs": [
    {
     "ename": "NameError",
     "evalue": "name 'w' is not defined",
     "output_type": "error",
     "traceback": [
      "\u001b[1;31m---------------------------------------------------------------------------\u001b[0m",
      "\u001b[1;31mNameError\u001b[0m                                 Traceback (most recent call last)",
      "Input \u001b[1;32mIn [20]\u001b[0m, in \u001b[0;36m<cell line: 1>\u001b[1;34m()\u001b[0m\n\u001b[1;32m----> 1\u001b[0m \u001b[38;5;28mprint\u001b[39m(\u001b[43mw\u001b[49m)\n",
      "\u001b[1;31mNameError\u001b[0m: name 'w' is not defined"
     ]
    }
   ],
   "source": [
    "print(w)"
   ]
  },
  {
   "cell_type": "markdown",
   "id": "399b7aa2",
   "metadata": {},
   "source": [
    "### Trying to open a file that does not exist, such as mistyping the file name or looking in the wrong directory. \n"
   ]
  },
  {
   "cell_type": "code",
   "execution_count": 25,
   "id": "e9023bcb",
   "metadata": {},
   "outputs": [
    {
     "ename": "FileNotFoundError",
     "evalue": "[Errno 2] No such file or directory: 'amal.txt'",
     "output_type": "error",
     "traceback": [
      "\u001b[1;31m---------------------------------------------------------------------------\u001b[0m",
      "\u001b[1;31mFileNotFoundError\u001b[0m                         Traceback (most recent call last)",
      "Input \u001b[1;32mIn [25]\u001b[0m, in \u001b[0;36m<cell line: 1>\u001b[1;34m()\u001b[0m\n\u001b[1;32m----> 1\u001b[0m f \u001b[38;5;241m=\u001b[39m \u001b[38;5;28;43mopen\u001b[39;49m\u001b[43m(\u001b[49m\u001b[38;5;124;43m'\u001b[39;49m\u001b[38;5;124;43mamal.txt\u001b[39;49m\u001b[38;5;124;43m'\u001b[39;49m\u001b[43m,\u001b[49m\u001b[38;5;124;43m'\u001b[39;49m\u001b[38;5;124;43mr\u001b[39;49m\u001b[38;5;124;43m'\u001b[39;49m\u001b[43m)\u001b[49m\n",
      "\u001b[1;31mFileNotFoundError\u001b[0m: [Errno 2] No such file or directory: 'amal.txt'"
     ]
    }
   ],
   "source": [
    "f = open('amal.txt','r')"
   ]
  },
  {
   "cell_type": "markdown",
   "id": "a9397f16",
   "metadata": {},
   "source": [
    "# Question 10"
   ]
  },
  {
   "cell_type": "code",
   "execution_count": 26,
   "id": "23efea10",
   "metadata": {},
   "outputs": [
    {
     "name": "stdout",
     "output_type": "stream",
     "text": [
      "['1', '1', '1', '3', '5', '1', '1', '2', '1', '0', '1', '0', '1', '2', '4', '0', '1', '2', '0', '2', '1', '0', '1', '1', '0', '0']\n",
      "['1', '0', '0', '0', '1', '0', '0', '0', '0', '0', '0', '1', '0', '0', '0', '2', '0', '0', '0', '0', '0', '0', '0', '0', '0', '0']\n"
     ]
    }
   ],
   "source": [
    "def frequencies(line):\n",
    "    frequenciesofline = []\n",
    "    alphabets = 'abcdefghijklmnopqrstuvwxyz'\n",
    "    for each in alphabets:\n",
    "        alphabet_count = (line.count(each))\n",
    "        frequenciesofline +=  str(alphabet_count)\n",
    "    print(frequenciesofline)\n",
    "    \n",
    "frequencies('The quick red fox got bored and went home.')\n",
    "frequencies('apple')"
   ]
  },
  {
   "cell_type": "code",
   "execution_count": null,
   "id": "ef3092aa",
   "metadata": {},
   "outputs": [],
   "source": []
  }
 ],
 "metadata": {
  "kernelspec": {
   "display_name": "Python 3 (ipykernel)",
   "language": "python",
   "name": "python3"
  },
  "language_info": {
   "codemirror_mode": {
    "name": "ipython",
    "version": 3
   },
   "file_extension": ".py",
   "mimetype": "text/x-python",
   "name": "python",
   "nbconvert_exporter": "python",
   "pygments_lexer": "ipython3",
   "version": "3.10.4"
  }
 },
 "nbformat": 4,
 "nbformat_minor": 5
}
